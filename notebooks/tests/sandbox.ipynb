{
 "cells": [
  {
   "cell_type": "code",
   "execution_count": 1,
   "metadata": {},
   "outputs": [],
   "source": [
    "from core.data_structures.core_data import CoreData\n",
    "import numpy as np"
   ]
  },
  {
   "cell_type": "code",
   "execution_count": 2,
   "metadata": {},
   "outputs": [
    {
     "name": "stdout",
     "output_type": "stream",
     "text": [
      "[[1 2 3]\n",
      " [4 5 6]]\n",
      "<class 'core.data_structures.core_data.CoreData'>\n",
      "('rows', 'columns')\n",
      "columns\n",
      "1\n"
     ]
    }
   ],
   "source": [
    "# Example usage\n",
    "data = CoreData([[1, 2, 3], [4, 5, 6]], dims=(\"rows\", \"columns\"))\n",
    "print(data)\n",
    "print(type(data))\n",
    "print(data.dims)\n",
    "print(data.get_dim(1))\n",
    "print(data.get_axis(\"columns\"))\n"
   ]
  },
  {
   "cell_type": "code",
   "execution_count": 3,
   "metadata": {},
   "outputs": [
    {
     "name": "stdout",
     "output_type": "stream",
     "text": [
      "[[2 3]\n",
      " [5 6]]\n",
      "<class 'core.data_structures.core_data.CoreData'>\n",
      "('rows', 'columns')\n"
     ]
    }
   ],
   "source": [
    "# Slicing\n",
    "sliced_data = data[:, 1:]\n",
    "print(sliced_data)\n",
    "print(type(sliced_data))\n",
    "print(sliced_data.dims)\n"
   ]
  },
  {
   "cell_type": "code",
   "execution_count": 4,
   "metadata": {},
   "outputs": [
    {
     "name": "stdout",
     "output_type": "stream",
     "text": [
      "[[2 3 4]\n",
      " [5 6 7]]\n",
      "<class 'core.data_structures.core_data.CoreData'>\n",
      "('rows', 'columns')\n"
     ]
    }
   ],
   "source": [
    "# Summing in place\n",
    "data += 1\n",
    "print(data)\n",
    "print(type(data))\n",
    "print(data.dims)\n"
   ]
  },
  {
   "cell_type": "code",
   "execution_count": 5,
   "metadata": {},
   "outputs": [
    {
     "name": "stdout",
     "output_type": "stream",
     "text": [
      "[2 3 4]\n",
      "<class 'core.data_structures.core_data.CoreData'>\n",
      "('',)\n"
     ]
    }
   ],
   "source": [
    "# Extracting a submatrix\n",
    "submatrix = data[0, :]\n",
    "print(submatrix)\n",
    "print(type(submatrix))\n",
    "print(submatrix.dims)"
   ]
  },
  {
   "cell_type": "code",
   "execution_count": 6,
   "metadata": {},
   "outputs": [
    {
     "name": "stdout",
     "output_type": "stream",
     "text": [
      "[[2 5]\n",
      " [3 6]\n",
      " [4 7]]\n",
      "<class 'core.data_structures.core_data.CoreData'>\n",
      "('columns', 'rows')\n",
      "[[2 5]\n",
      " [3 6]\n",
      " [4 7]]\n",
      "<class 'core.data_structures.core_data.CoreData'>\n",
      "('columns', 'rows')\n"
     ]
    }
   ],
   "source": [
    "# Transposing via the T attribute\n",
    "transposed_data = data.T\n",
    "print(transposed_data)\n",
    "print(type(transposed_data))\n",
    "print(transposed_data.dims)\n",
    "\n",
    "# Transposing via the transpose method\n",
    "transposed_data = data.transpose()\n",
    "print(transposed_data)\n",
    "print(type(transposed_data))\n",
    "print(transposed_data.dims)"
   ]
  },
  {
   "cell_type": "code",
   "execution_count": 7,
   "metadata": {},
   "outputs": [
    {
     "name": "stdout",
     "output_type": "stream",
     "text": [
      "[[2 5]\n",
      " [3 6]\n",
      " [4 7]]\n",
      "<class 'core.data_structures.core_data.CoreData'>\n",
      "('columns', 'rows')\n"
     ]
    }
   ],
   "source": [
    "# Swap axes\n",
    "swapped_data = data.swapaxes(0,1)\n",
    "print(swapped_data)\n",
    "print(type(swapped_data))\n",
    "print(swapped_data.dims)"
   ]
  },
  {
   "cell_type": "code",
   "execution_count": 11,
   "metadata": {},
   "outputs": [
    {
     "name": "stdout",
     "output_type": "stream",
     "text": [
      "[1 2 3 4 5 6 7]\n",
      "[2 4]\n",
      "<class 'numpy.ndarray'>\n"
     ]
    }
   ],
   "source": [
    "# Index a regular numpy array using a custom object\n",
    "indexer = CoreData([1, 3], dims=(\"rows\",))\n",
    "numpy_array = np.array([1, 2, 3, 4, 5, 6, 7])\n",
    "result = numpy_array[indexer]\n",
    "print(numpy_array)\n",
    "print(result)\n",
    "print(type(result))"
   ]
  },
  {
   "cell_type": "code",
   "execution_count": 12,
   "metadata": {},
   "outputs": [
    {
     "name": "stdout",
     "output_type": "stream",
     "text": [
      "[False False False  True  True  True  True]\n",
      "<class 'core.data_structures.core_data.CoreData'>\n",
      "('rows',)\n",
      "[4 5 6 7]\n",
      "<class 'numpy.ndarray'>\n"
     ]
    }
   ],
   "source": [
    "# Index a regular numpy array using a custom object used as a condition (to produce a boolean mask)\n",
    "obj = CoreData([1, 2, 3, 4, 5, 6, 7], dims=(\"rows\",))\n",
    "mask = obj > 3\n",
    "print(mask)\n",
    "print(type(mask))\n",
    "print(mask.dims)\n",
    "result = numpy_array[mask]\n",
    "print(result)\n",
    "print(type(result))\n"
   ]
  },
  {
   "cell_type": "code",
   "execution_count": null,
   "metadata": {},
   "outputs": [],
   "source": []
  }
 ],
 "metadata": {
  "kernelspec": {
   "display_name": "mtcdb",
   "language": "python",
   "name": "python3"
  },
  "language_info": {
   "codemirror_mode": {
    "name": "ipython",
    "version": 3
   },
   "file_extension": ".py",
   "mimetype": "text/x-python",
   "name": "python",
   "nbconvert_exporter": "python",
   "pygments_lexer": "ipython3",
   "version": "3.12.5"
  }
 },
 "nbformat": 4,
 "nbformat_minor": 2
}
