{
 "cells": [
  {
   "cell_type": "code",
   "execution_count": 3,
   "metadata": {},
   "outputs": [
    {
     "name": "stdout",
     "output_type": "stream",
     "text": [
      "The autoreload extension is already loaded. To reload it, use:\n",
      "  %reload_ext autoreload\n",
      "Current working directory:\n",
      "/Users/eresther/Documents/Work/multitask-context-dependent-behavior/notebooks/tests\n",
      "Active conda environment:\n",
      "/Users/eresther/miniconda3/envs/mtcdb\n",
      "Root directory (environment variable):\n",
      "/Users/eresther/Documents/Work/multitask-context-dependent-behavior\n",
      "Data directory (environment variable):\n",
      "/Users/eresther/Documents/Work/multitask-context-dependent-behavior/data\n"
     ]
    },
    {
     "data": {
      "text/plain": [
       "0"
      ]
     },
     "execution_count": 3,
     "metadata": {},
     "output_type": "execute_result"
    }
   ],
   "source": [
    "%load_ext autoreload\n",
    "%autoreload 2\n",
    "\n",
    "import os\n",
    "import numpy as np\n",
    "from core.data_structures.raw_spk_times import RawSpkTimes\n",
    "\n",
    "\n",
    "# Inspect paths\n",
    "print(\"Current working directory:\")\n",
    "print(os.getcwd())\n",
    "print(\"Active conda environment:\")\n",
    "os.system(\"echo $CONDA_PREFIX\")\n",
    "print(\"Root directory (environment variable):\")\n",
    "os.system(\"echo $ROOT\")\n",
    "print(\"Data directory (environment variable):\")\n",
    "os.system(\"echo $DATA_DIR\")\n",
    "\n",
    "# If necessary, activate the conda environment to export the environment variables in the post-active script\n",
    "# Bash script: src/tasks/environment/conda_env_mng.sh\n",
    "# Function: activate_env with argument \"mtcdb\" (name)\n",
    "#os.system(\"source src/tasks/environment/conda_env_mng.sh activate_env mtcdb\")\n"
   ]
  },
  {
   "cell_type": "code",
   "execution_count": 11,
   "metadata": {},
   "outputs": [
    {
     "name": "stdout",
     "output_type": "stream",
     "text": [
      "<RawSpkTimesPath> - ROOT: /Users/eresther/Documents/Work/multitask-context-dependent-behavior/data\n",
      "Path to data (no ext): /Users/eresther/Documents/Work/multitask-context-dependent-behavior/data/raw/was003a-b1/was003a05_p_PTD\n",
      "<LoaderNPY> - ndarray - Path: /Users/eresther/Documents/Work/multitask-context-dependent-behavior/data/raw/was003a-b1/was003a05_p_PTD\n",
      "Load: /Users/eresther/Documents/Work/multitask-context-dependent-behavior/data/raw/was003a-b1/was003a05_p_PTD.npy\n",
      "RAW (2, 1365)\n",
      "Data Structure Shape: (1365,)\n",
      "\n",
      "[0.25676 0.4662  0.47848 ... 5.5716  6.3774  7.00356]\n",
      "<CoordBlock>: 1365 samples, 1: 51, 2: 16, 3: 8, 4: 29, 5: 4, 6: 52, 7: 53, 8: 24, 9: 60, 10: 64, 11: 49, 12: 25, 13: 20, 14: 38, 15: 23, 16: 34, 17: 8, 18: 26, 19: 35, 20: 9, 21: 59, 22: 18, 23: 65, 24: 8, 25: 45, 26: 52, 27: 83, 28: 18, 29: 11, 30: 58, 31: 23, 32: 41, 33: 33, 34: 5, 35: 48, 36: 13, 37: 55, 38: 76, 39: 26.\n",
      "39\n"
     ]
    }
   ],
   "source": [
    "unit_id = \"was003a-b1\"\n",
    "session_id = \"was003a05_p_PTD\"\n",
    "\n",
    "ds = RawSpkTimes(unit_id, session_id)\n",
    "\n",
    "assert ds.unit_id == unit_id\n",
    "assert ds.session_id == session_id\n",
    "\n",
    "print(ds.path_ruler())\n",
    "print(f\"Path to data (no ext): {ds.path}\")\n",
    "print(ds.loader(ds.path))\n",
    "\n",
    "# Load Data\n",
    "ds.load()\n",
    "print(f\"Data Structure Shape: {ds.shape}\")\n",
    "\n",
    "print('')\n",
    "print(ds.data)\n",
    "print(ds.block)\n",
    "n = ds.n_blocks\n",
    "print(ds.n_blocks)\n"
   ]
  },
  {
   "cell_type": "code",
   "execution_count": 10,
   "metadata": {},
   "outputs": [
    {
     "name": "stdout",
     "output_type": "stream",
     "text": [
      "(2, 1365)\n"
     ]
    }
   ],
   "source": [
    "# Load numpy data manually\n",
    "\n",
    "path_to_npy = \"/Users/eresther/Documents/Work/multitask-context-dependent-behavior/data/raw/was003a-b1/was003a05_p_PTD.npy\"\n",
    "\n",
    "data = np.load(path_to_npy, allow_pickle=True)\n",
    "print(data.shape)"
   ]
  },
  {
   "cell_type": "code",
   "execution_count": null,
   "metadata": {},
   "outputs": [],
   "source": []
  },
  {
   "cell_type": "code",
   "execution_count": null,
   "metadata": {},
   "outputs": [],
   "source": []
  },
  {
   "cell_type": "code",
   "execution_count": null,
   "metadata": {},
   "outputs": [],
   "source": []
  },
  {
   "cell_type": "code",
   "execution_count": null,
   "metadata": {},
   "outputs": [],
   "source": []
  }
 ],
 "metadata": {
  "kernelspec": {
   "display_name": "mtcdb",
   "language": "python",
   "name": "python3"
  },
  "language_info": {
   "codemirror_mode": {
    "name": "ipython",
    "version": 3
   },
   "file_extension": ".py",
   "mimetype": "text/x-python",
   "name": "python",
   "nbconvert_exporter": "python",
   "pygments_lexer": "ipython3",
   "version": "3.12.5"
  }
 },
 "nbformat": 4,
 "nbformat_minor": 2
}
